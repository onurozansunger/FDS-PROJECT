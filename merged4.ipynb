{
 "cells": [
  {
   "cell_type": "markdown",
   "id": "175046a7",
   "metadata": {
    "colab_type": "text",
    "id": "view-in-github"
   },
   "source": [
    "<a href=\"https://colab.research.google.com/github/onurozansunger/FDS-PROJECT/blob/main/merged2.ipynb\" target=\"_parent\"><img src=\"https://colab.research.google.com/assets/colab-badge.svg\" alt=\"Open In Colab\"/></a>"
   ]
  },
  {
   "cell_type": "code",
   "execution_count": 7,
   "id": "0a0ccf00",
   "metadata": {
    "id": "0a0ccf00"
   },
   "outputs": [
    {
     "name": "stderr",
     "output_type": "stream",
     "text": [
      "/home/ec2-user/anaconda3/envs/python3/lib/python3.10/site-packages/pandas/core/computation/expressions.py:21: UserWarning: Pandas requires version '2.8.0' or newer of 'numexpr' (version '2.7.3' currently installed).\n",
      "  from pandas.core.computation.check import NUMEXPR_INSTALLED\n"
     ]
    }
   ],
   "source": [
    "import pandas as pd\n",
    "from sklearn.model_selection import train_test_split\n",
    "from sklearn.preprocessing import OneHotEncoder\n",
    "from sklearn.compose import ColumnTransformer\n",
    "from sklearn.pipeline import Pipeline\n",
    "from sklearn.impute import SimpleImputer\n",
    "import seaborn as sns\n",
    "import warnings\n",
    "import matplotlib.pyplot as plt\n",
    "from scipy.stats import ttest_ind\n",
    "from scipy.stats import f_oneway"
   ]
  },
  {
   "cell_type": "code",
   "execution_count": 2,
   "id": "faf5ae46",
   "metadata": {
    "id": "faf5ae46"
   },
   "outputs": [
    {
     "name": "stderr",
     "output_type": "stream",
     "text": [
      "/tmp/ipykernel_20377/1607118639.py:4: DtypeWarning: Columns (4) have mixed types. Specify dtype option on import or set low_memory=False.\n",
      "  title_data = pd.read_csv('title_basics.tsv', delimiter='\\t', encoding='utf-8')\n"
     ]
    }
   ],
   "source": [
    "# Read the datasets\n",
    "netflix_data = pd.read_csv('netflix_titles.csv', delimiter=',', encoding='utf-8')\n",
    "name_data = pd.read_csv('name_basics.tsv', delimiter='\\t', encoding='utf-8')\n",
    "title_data = pd.read_csv('title_basics.tsv', delimiter='\\t', encoding='utf-8')\n",
    "ratings_data = pd.read_csv('ratings_data.tsv', delimiter='\\t', encoding='utf-8')"
   ]
  },
  {
   "cell_type": "code",
   "execution_count": null,
   "id": "449485a8",
   "metadata": {},
   "outputs": [],
   "source": [
    "# Continuation of reading datasets\n",
    "principals_data = pd.read_csv('title.principals.tsv.gz', sep='\\t',compression='gzip')"
   ]
  },
  {
   "cell_type": "code",
   "execution_count": 5,
   "id": "f5a7c9fb",
   "metadata": {},
   "outputs": [],
   "source": [
    "# Continuation of reading datasets\n",
    "crew_data = pd.read_csv('title.crew.tsv.gz', sep='\\t',compression='gzip')"
   ]
  },
  {
   "cell_type": "code",
   "execution_count": 4,
   "id": "453c17f5",
   "metadata": {},
   "outputs": [],
   "source": [
    "principals_modified = principals_data[(principals_data[\"category\"] == \"actor\") | (principals_data[\"category\"] == \"actress\") | (principals_data[\"category\"] == \"director\")]"
   ]
  },
  {
   "cell_type": "code",
   "execution_count": 4,
   "id": "2f63e194",
   "metadata": {},
   "outputs": [],
   "source": [
    "# First, merge ratings_data and title_data\n",
    "merged_1_2 = pd.merge(ratings_data, title_data, on='tconst', how='inner')\n",
    "\n",
    "# Then merge the result with crew_data\n",
    "merged_1_2_3 = pd.merge(merged_1_2, crew_data, on='tconst', how='left')\n",
    "\n",
    "# Continue the process with principals_modified\n",
    "merged_1_2_3_6 = pd.merge(merged_1_2_3, principals_modified, on='tconst', how='left')\n",
    "\n",
    "# Then, merge with name_data\n",
    "merged_dataset = pd.merge(merged_1_2_3_6, name_data, on='nconst', how='inner')\n",
    "\n",
    "# Finally, merge the imdb datasets with the Netflix one\n",
    "netflix2 = pd.merge(netflix_data, merged_dataset, left_on='title', right_on='primaryTitle', how='left')"
   ]
  },
  {
   "cell_type": "code",
   "execution_count": null,
   "id": "64df83fd",
   "metadata": {},
   "outputs": [],
   "source": [
    "# Remove the NaN values from the dataset\n",
    "netflix3=df = netflix2.dropna(subset=['averageRating'])"
   ]
  },
  {
   "cell_type": "code",
   "execution_count": null,
   "id": "dec8873a",
   "metadata": {},
   "outputs": [],
   "source": []
  },
  {
   "cell_type": "markdown",
   "id": "604d9b7d",
   "metadata": {},
   "source": [
    "Feature Selection"
   ]
  },
  {
   "cell_type": "code",
   "execution_count": 5,
   "id": "14fe1a52",
   "metadata": {},
   "outputs": [],
   "source": [
    "# Checking if runtime data can be selected as a feature. First, we have to modify the data type accordingly. \n",
    "merged_1_2['runtimeMinutes'] = pd.to_numeric(merged_1_2['runtimeMinutes'], errors='coerce')\n",
    "\n",
    "# Remove the NaN values from the dataset\n",
    "merged_1_2 = merged_1_2[merged_1_2['runtimeMinutes'].notna()]\n",
    "\n",
    "# Reset index\n",
    "merged_1_2.reset_index(drop=True, inplace=True)"
   ]
  },
  {
   "cell_type": "code",
   "execution_count": 6,
   "id": "cf6e9696",
   "metadata": {},
   "outputs": [
    {
     "data": {
      "text/plain": [
       "<bound method DataFrame.info of            tconst  averageRating  numVotes  titleType  \\\n",
       "0       tt0000001            5.7      2011      short   \n",
       "1       tt0000002            5.7       271      short   \n",
       "2       tt0000003            6.5      1931      short   \n",
       "3       tt0000004            5.4       179      short   \n",
       "4       tt0000005            6.2      2702      short   \n",
       "...           ...            ...       ...        ...   \n",
       "980835  tt9916690            8.3         8  tvEpisode   \n",
       "980836  tt9916730            7.6        11      movie   \n",
       "980837  tt9916766            7.0        22  tvEpisode   \n",
       "980838  tt9916840            8.8         6  tvEpisode   \n",
       "980839  tt9916880            8.2         6  tvEpisode   \n",
       "\n",
       "                          primaryTitle                   originalTitle  \\\n",
       "0                           Carmencita                      Carmencita   \n",
       "1               Le clown et ses chiens          Le clown et ses chiens   \n",
       "2                       Pauvre Pierrot                  Pauvre Pierrot   \n",
       "3                          Un bon bock                     Un bon bock   \n",
       "4                     Blacksmith Scene                Blacksmith Scene   \n",
       "...                                ...                             ...   \n",
       "980835  Horrid Henry Delivers the Milk  Horrid Henry Delivers the Milk   \n",
       "980836                          6 Gunn                          6 Gunn   \n",
       "980837                  Episode #10.15                  Episode #10.15   \n",
       "980838      Horrid Henry's Comic Caper      Horrid Henry's Comic Caper   \n",
       "980839       Horrid Henry Knows It All       Horrid Henry Knows It All   \n",
       "\n",
       "       isAdult startYear endYear  runtimeMinutes                       genres  \n",
       "0            0      1894      \\N             1.0            Documentary,Short  \n",
       "1            0      1892      \\N             5.0              Animation,Short  \n",
       "2            0      1892      \\N             4.0     Animation,Comedy,Romance  \n",
       "3            0      1892      \\N            12.0              Animation,Short  \n",
       "4            0      1893      \\N             1.0                 Comedy,Short  \n",
       "...        ...       ...     ...             ...                          ...  \n",
       "980835       0      2012      \\N            10.0   Adventure,Animation,Comedy  \n",
       "980836       0      2017      \\N           116.0                        Drama  \n",
       "980837       0      2019      \\N            43.0  Family,Game-Show,Reality-TV  \n",
       "980838       0      2014      \\N            11.0   Adventure,Animation,Comedy  \n",
       "980839       0      2014      \\N            10.0   Adventure,Animation,Comedy  \n",
       "\n",
       "[980840 rows x 11 columns]>"
      ]
     },
     "execution_count": 6,
     "metadata": {},
     "output_type": "execute_result"
    }
   ],
   "source": [
    "merged_1_2.info"
   ]
  },
  {
   "cell_type": "code",
   "execution_count": 7,
   "id": "d625abb9",
   "metadata": {},
   "outputs": [
    {
     "name": "stdout",
     "output_type": "stream",
     "text": [
      "Correlation coefficient: -0.08317765978195327\n"
     ]
    }
   ],
   "source": [
    "correlation = merged_1_2['averageRating'].corr(merged_1_2['runtimeMinutes'])\n",
    "print(\"Correlation coefficient:\", correlation) "
   ]
  },
  {
   "cell_type": "markdown",
   "id": "14ed6b26",
   "metadata": {},
   "source": [
    "Since the correlation coefficient of the runtime data is very small (smaller than 0.5), we decided not to use it as a feature. "
   ]
  },
  {
   "cell_type": "code",
   "execution_count": 8,
   "id": "d9626371",
   "metadata": {},
   "outputs": [
    {
     "name": "stdout",
     "output_type": "stream",
     "text": [
      "Correlation coefficient: 0.01689553678504378\n"
     ]
    }
   ],
   "source": [
    "# Checking if the number of votes data can be selected as a feature. \n",
    "correlation = merged_1_2['averageRating'].corr(merged_1_2['numVotes'])\n",
    "print(\"Correlation coefficient:\", correlation)"
   ]
  },
  {
   "cell_type": "markdown",
   "id": "03368d87",
   "metadata": {},
   "source": [
    "Since the correlation coefficient of the number of votes data is very small (smaller than 0.5), we decided not to use it as a feature."
   ]
  },
  {
   "cell_type": "code",
   "execution_count": 11,
   "id": "a920c2e0",
   "metadata": {},
   "outputs": [],
   "source": [
    "netflix_merged_df = pd.merge(netflix_data, merged_1_2, left_on='title', right_on= 'primaryTitle', how='left')"
   ]
  },
  {
   "cell_type": "code",
   "execution_count": 12,
   "id": "91f36a8a",
   "metadata": {},
   "outputs": [
    {
     "data": {
      "text/html": [
       "<div>\n",
       "<style scoped>\n",
       "    .dataframe tbody tr th:only-of-type {\n",
       "        vertical-align: middle;\n",
       "    }\n",
       "\n",
       "    .dataframe tbody tr th {\n",
       "        vertical-align: top;\n",
       "    }\n",
       "\n",
       "    .dataframe thead th {\n",
       "        text-align: right;\n",
       "    }\n",
       "</style>\n",
       "<table border=\"1\" class=\"dataframe\">\n",
       "  <thead>\n",
       "    <tr style=\"text-align: right;\">\n",
       "      <th></th>\n",
       "      <th>show_id</th>\n",
       "      <th>type</th>\n",
       "      <th>title</th>\n",
       "      <th>director</th>\n",
       "      <th>cast</th>\n",
       "      <th>country</th>\n",
       "      <th>date_added</th>\n",
       "      <th>release_year</th>\n",
       "      <th>rating</th>\n",
       "      <th>duration</th>\n",
       "      <th>...</th>\n",
       "      <th>averageRating</th>\n",
       "      <th>numVotes</th>\n",
       "      <th>titleType</th>\n",
       "      <th>primaryTitle</th>\n",
       "      <th>originalTitle</th>\n",
       "      <th>isAdult</th>\n",
       "      <th>startYear</th>\n",
       "      <th>endYear</th>\n",
       "      <th>runtimeMinutes</th>\n",
       "      <th>genres</th>\n",
       "    </tr>\n",
       "  </thead>\n",
       "  <tbody>\n",
       "    <tr>\n",
       "      <th>0</th>\n",
       "      <td>s1</td>\n",
       "      <td>Movie</td>\n",
       "      <td>Dick Johnson Is Dead</td>\n",
       "      <td>Kirsten Johnson</td>\n",
       "      <td>NaN</td>\n",
       "      <td>United States</td>\n",
       "      <td>September 25, 2021</td>\n",
       "      <td>2020</td>\n",
       "      <td>PG-13</td>\n",
       "      <td>90 min</td>\n",
       "      <td>...</td>\n",
       "      <td>7.4</td>\n",
       "      <td>7125.0</td>\n",
       "      <td>movie</td>\n",
       "      <td>Dick Johnson Is Dead</td>\n",
       "      <td>Dick Johnson Is Dead</td>\n",
       "      <td>0</td>\n",
       "      <td>2020</td>\n",
       "      <td>\\N</td>\n",
       "      <td>89.0</td>\n",
       "      <td>Biography,Documentary,Drama</td>\n",
       "    </tr>\n",
       "    <tr>\n",
       "      <th>1</th>\n",
       "      <td>s2</td>\n",
       "      <td>TV Show</td>\n",
       "      <td>Blood &amp; Water</td>\n",
       "      <td>NaN</td>\n",
       "      <td>Ama Qamata, Khosi Ngema, Gail Mabalane, Thaban...</td>\n",
       "      <td>South Africa</td>\n",
       "      <td>September 24, 2021</td>\n",
       "      <td>2021</td>\n",
       "      <td>TV-MA</td>\n",
       "      <td>2 Seasons</td>\n",
       "      <td>...</td>\n",
       "      <td>8.0</td>\n",
       "      <td>22.0</td>\n",
       "      <td>tvEpisode</td>\n",
       "      <td>Blood &amp; Water</td>\n",
       "      <td>Blood &amp; Water</td>\n",
       "      <td>0</td>\n",
       "      <td>2014</td>\n",
       "      <td>\\N</td>\n",
       "      <td>42.0</td>\n",
       "      <td>Crime,Documentary</td>\n",
       "    </tr>\n",
       "    <tr>\n",
       "      <th>2</th>\n",
       "      <td>s2</td>\n",
       "      <td>TV Show</td>\n",
       "      <td>Blood &amp; Water</td>\n",
       "      <td>NaN</td>\n",
       "      <td>Ama Qamata, Khosi Ngema, Gail Mabalane, Thaban...</td>\n",
       "      <td>South Africa</td>\n",
       "      <td>September 24, 2021</td>\n",
       "      <td>2021</td>\n",
       "      <td>TV-MA</td>\n",
       "      <td>2 Seasons</td>\n",
       "      <td>...</td>\n",
       "      <td>7.3</td>\n",
       "      <td>528.0</td>\n",
       "      <td>tvEpisode</td>\n",
       "      <td>Blood &amp; Water</td>\n",
       "      <td>Blood &amp; Water</td>\n",
       "      <td>0</td>\n",
       "      <td>2014</td>\n",
       "      <td>\\N</td>\n",
       "      <td>88.0</td>\n",
       "      <td>Crime,Drama,Mystery</td>\n",
       "    </tr>\n",
       "    <tr>\n",
       "      <th>3</th>\n",
       "      <td>s2</td>\n",
       "      <td>TV Show</td>\n",
       "      <td>Blood &amp; Water</td>\n",
       "      <td>NaN</td>\n",
       "      <td>Ama Qamata, Khosi Ngema, Gail Mabalane, Thaban...</td>\n",
       "      <td>South Africa</td>\n",
       "      <td>September 24, 2021</td>\n",
       "      <td>2021</td>\n",
       "      <td>TV-MA</td>\n",
       "      <td>2 Seasons</td>\n",
       "      <td>...</td>\n",
       "      <td>7.1</td>\n",
       "      <td>14.0</td>\n",
       "      <td>tvEpisode</td>\n",
       "      <td>Blood &amp; Water</td>\n",
       "      <td>Blood &amp; Water</td>\n",
       "      <td>0</td>\n",
       "      <td>2018</td>\n",
       "      <td>\\N</td>\n",
       "      <td>44.0</td>\n",
       "      <td>Adventure,Documentary,Reality-TV</td>\n",
       "    </tr>\n",
       "    <tr>\n",
       "      <th>4</th>\n",
       "      <td>s2</td>\n",
       "      <td>TV Show</td>\n",
       "      <td>Blood &amp; Water</td>\n",
       "      <td>NaN</td>\n",
       "      <td>Ama Qamata, Khosi Ngema, Gail Mabalane, Thaban...</td>\n",
       "      <td>South Africa</td>\n",
       "      <td>September 24, 2021</td>\n",
       "      <td>2021</td>\n",
       "      <td>TV-MA</td>\n",
       "      <td>2 Seasons</td>\n",
       "      <td>...</td>\n",
       "      <td>6.7</td>\n",
       "      <td>3958.0</td>\n",
       "      <td>tvSeries</td>\n",
       "      <td>Blood &amp; Water</td>\n",
       "      <td>Blood &amp; Water</td>\n",
       "      <td>0</td>\n",
       "      <td>2020</td>\n",
       "      <td>\\N</td>\n",
       "      <td>53.0</td>\n",
       "      <td>Drama,Mystery</td>\n",
       "    </tr>\n",
       "  </tbody>\n",
       "</table>\n",
       "<p>5 rows × 23 columns</p>\n",
       "</div>"
      ],
      "text/plain": [
       "  show_id     type                 title         director  \\\n",
       "0      s1    Movie  Dick Johnson Is Dead  Kirsten Johnson   \n",
       "1      s2  TV Show         Blood & Water              NaN   \n",
       "2      s2  TV Show         Blood & Water              NaN   \n",
       "3      s2  TV Show         Blood & Water              NaN   \n",
       "4      s2  TV Show         Blood & Water              NaN   \n",
       "\n",
       "                                                cast        country  \\\n",
       "0                                                NaN  United States   \n",
       "1  Ama Qamata, Khosi Ngema, Gail Mabalane, Thaban...   South Africa   \n",
       "2  Ama Qamata, Khosi Ngema, Gail Mabalane, Thaban...   South Africa   \n",
       "3  Ama Qamata, Khosi Ngema, Gail Mabalane, Thaban...   South Africa   \n",
       "4  Ama Qamata, Khosi Ngema, Gail Mabalane, Thaban...   South Africa   \n",
       "\n",
       "           date_added  release_year rating   duration  ... averageRating  \\\n",
       "0  September 25, 2021          2020  PG-13     90 min  ...           7.4   \n",
       "1  September 24, 2021          2021  TV-MA  2 Seasons  ...           8.0   \n",
       "2  September 24, 2021          2021  TV-MA  2 Seasons  ...           7.3   \n",
       "3  September 24, 2021          2021  TV-MA  2 Seasons  ...           7.1   \n",
       "4  September 24, 2021          2021  TV-MA  2 Seasons  ...           6.7   \n",
       "\n",
       "  numVotes  titleType          primaryTitle         originalTitle isAdult  \\\n",
       "0   7125.0      movie  Dick Johnson Is Dead  Dick Johnson Is Dead       0   \n",
       "1     22.0  tvEpisode         Blood & Water         Blood & Water       0   \n",
       "2    528.0  tvEpisode         Blood & Water         Blood & Water       0   \n",
       "3     14.0  tvEpisode         Blood & Water         Blood & Water       0   \n",
       "4   3958.0   tvSeries         Blood & Water         Blood & Water       0   \n",
       "\n",
       "  startYear endYear runtimeMinutes                            genres  \n",
       "0      2020      \\N           89.0       Biography,Documentary,Drama  \n",
       "1      2014      \\N           42.0                 Crime,Documentary  \n",
       "2      2014      \\N           88.0               Crime,Drama,Mystery  \n",
       "3      2018      \\N           44.0  Adventure,Documentary,Reality-TV  \n",
       "4      2020      \\N           53.0                     Drama,Mystery  \n",
       "\n",
       "[5 rows x 23 columns]"
      ]
     },
     "execution_count": 12,
     "metadata": {},
     "output_type": "execute_result"
    }
   ],
   "source": [
    "netflix_merged_df.head(5)"
   ]
  },
  {
   "cell_type": "code",
   "execution_count": null,
   "id": "159a7801",
   "metadata": {},
   "outputs": [],
   "source": [
    "# Remove the unnecessary columns from our datasets.\n",
    "netflix4 = netflix3.drop(columns=['listed_in', 'description','director', 'cast','duration', 'date_added','titleType','runtimeMinutes', 'tconst', 'titleType', 'primaryTitle',  'originalTitle', 'isAdult', 'startYear', 'endYear', 'writers', 'ordering', 'nconst', 'job', 'characters', 'birthYear', 'deathYear', 'primaryProfession', 'knownForTitles'])\n",
    "# Save the final dataset as a new file in order to ease further use by other team members.\n",
    "netflix4.to_csv('netflix4.csv', index=False)"
   ]
  },
  {
   "cell_type": "code",
   "execution_count": 8,
   "id": "6b606c9f",
   "metadata": {},
   "outputs": [],
   "source": [
    "netflix = pd.read_csv('netflix41.csv')"
   ]
  },
  {
   "cell_type": "code",
   "execution_count": 9,
   "id": "8f6927f6",
   "metadata": {},
   "outputs": [
    {
     "name": "stdout",
     "output_type": "stream",
     "text": [
      "F-statistic for countries: 6.838726434406598\n",
      "p-value: 0.0\n"
     ]
    }
   ],
   "source": [
    "# We wanted to use country and director information as features in our model. To check if these information are actually\n",
    "# useful, we conducted the following tests.\n",
    "\n",
    "# Count the number of movies per country\n",
    "country_counts = netflix['country'].value_counts()\n",
    "\n",
    "# Filter out countries with insufficient data points\n",
    "threshold = 5 \n",
    "valid_countries = country_counts[country_counts >= threshold].index.tolist()\n",
    "\n",
    "# Perform ANOVA test for 'country' and 'averageRating' only for valid countries\n",
    "filtered_data = [netflix[netflix['country'] == country]['averageRating'] for country in valid_countries]\n",
    "f_stat, p_value = f_oneway(*filtered_data)\n",
    "\n",
    "print(\"F-statistic for countries:\", f_stat)\n",
    "print(\"p-value:\", p_value)"
   ]
  },
  {
   "cell_type": "code",
   "execution_count": 10,
   "id": "04d75124",
   "metadata": {},
   "outputs": [
    {
     "name": "stdout",
     "output_type": "stream",
     "text": [
      "F-statistic for names: 4.091473904770355\n",
      "p-value: 0.0\n"
     ]
    }
   ],
   "source": [
    "# ANOVA for director names\n",
    "# Count the number of names\n",
    "names_counts = netflix['primaryName'].value_counts()\n",
    "\n",
    "# Filter out names with insufficient data points\n",
    "threshold = 5 \n",
    "valid_names = names_counts[names_counts >= threshold].index.tolist()\n",
    "\n",
    "# Perform ANOVA test for names and 'averageRating' only for valid names\n",
    "filtered_data2 = [netflix[netflix['primaryName'] == name]['averageRating'] for name in valid_names]\n",
    "f_stat2, p_value2 = f_oneway(*filtered_data2)\n",
    "\n",
    "print(\"F-statistic for names:\", f_stat2)\n",
    "print(\"p-value:\", p_value2)"
   ]
  },
  {
   "cell_type": "code",
   "execution_count": 11,
   "id": "6f01bc21",
   "metadata": {
    "id": "6f01bc21"
   },
   "outputs": [],
   "source": [
    "# Removing unnecessary columns and NaN values\n",
    "netflix.drop([ 'directors', 'title', 'rating', 'show_id', 'release_year'], axis=1, inplace=True)\n",
    "netflix4 = netflix.dropna()"
   ]
  },
  {
   "cell_type": "code",
   "execution_count": 12,
   "id": "1717ac37",
   "metadata": {
    "colab": {
     "base_uri": "https://localhost:8080/",
     "height": 204
    },
    "id": "1717ac37",
    "outputId": "cae74332-ceb9-4c29-bab9-8ae0638a4124"
   },
   "outputs": [
    {
     "data": {
      "text/html": [
       "<div>\n",
       "<style scoped>\n",
       "    .dataframe tbody tr th:only-of-type {\n",
       "        vertical-align: middle;\n",
       "    }\n",
       "\n",
       "    .dataframe tbody tr th {\n",
       "        vertical-align: top;\n",
       "    }\n",
       "\n",
       "    .dataframe thead th {\n",
       "        text-align: right;\n",
       "    }\n",
       "</style>\n",
       "<table border=\"1\" class=\"dataframe\">\n",
       "  <thead>\n",
       "    <tr style=\"text-align: right;\">\n",
       "      <th></th>\n",
       "      <th>type</th>\n",
       "      <th>country</th>\n",
       "      <th>averageRating</th>\n",
       "      <th>numVotes</th>\n",
       "      <th>genres</th>\n",
       "      <th>category</th>\n",
       "      <th>primaryName</th>\n",
       "    </tr>\n",
       "  </thead>\n",
       "  <tbody>\n",
       "    <tr>\n",
       "      <th>0</th>\n",
       "      <td>Movie</td>\n",
       "      <td>United States</td>\n",
       "      <td>7.4</td>\n",
       "      <td>7119.0</td>\n",
       "      <td>Biography,Documentary,Drama</td>\n",
       "      <td>actor</td>\n",
       "      <td>Michael Hilow</td>\n",
       "    </tr>\n",
       "    <tr>\n",
       "      <th>1</th>\n",
       "      <td>Movie</td>\n",
       "      <td>United States</td>\n",
       "      <td>7.4</td>\n",
       "      <td>7119.0</td>\n",
       "      <td>Biography,Documentary,Drama</td>\n",
       "      <td>actress</td>\n",
       "      <td>Ana Hoffman</td>\n",
       "    </tr>\n",
       "    <tr>\n",
       "      <th>2</th>\n",
       "      <td>TV Show</td>\n",
       "      <td>South Africa</td>\n",
       "      <td>8.0</td>\n",
       "      <td>22.0</td>\n",
       "      <td>Crime,Documentary</td>\n",
       "      <td>actress</td>\n",
       "      <td>Susan Sarandon</td>\n",
       "    </tr>\n",
       "    <tr>\n",
       "      <th>3</th>\n",
       "      <td>TV Show</td>\n",
       "      <td>South Africa</td>\n",
       "      <td>7.3</td>\n",
       "      <td>528.0</td>\n",
       "      <td>Crime,Drama,Mystery</td>\n",
       "      <td>director</td>\n",
       "      <td>Mike Smith</td>\n",
       "    </tr>\n",
       "    <tr>\n",
       "      <th>4</th>\n",
       "      <td>TV Show</td>\n",
       "      <td>South Africa</td>\n",
       "      <td>7.3</td>\n",
       "      <td>528.0</td>\n",
       "      <td>Crime,Drama,Mystery</td>\n",
       "      <td>actor</td>\n",
       "      <td>Neill Rea</td>\n",
       "    </tr>\n",
       "  </tbody>\n",
       "</table>\n",
       "</div>"
      ],
      "text/plain": [
       "      type        country  averageRating  numVotes  \\\n",
       "0    Movie  United States            7.4    7119.0   \n",
       "1    Movie  United States            7.4    7119.0   \n",
       "2  TV Show   South Africa            8.0      22.0   \n",
       "3  TV Show   South Africa            7.3     528.0   \n",
       "4  TV Show   South Africa            7.3     528.0   \n",
       "\n",
       "                        genres  category     primaryName  \n",
       "0  Biography,Documentary,Drama     actor   Michael Hilow  \n",
       "1  Biography,Documentary,Drama   actress     Ana Hoffman  \n",
       "2            Crime,Documentary   actress  Susan Sarandon  \n",
       "3          Crime,Drama,Mystery  director      Mike Smith  \n",
       "4          Crime,Drama,Mystery     actor       Neill Rea  "
      ]
     },
     "execution_count": 12,
     "metadata": {},
     "output_type": "execute_result"
    }
   ],
   "source": [
    "netflix4.head()"
   ]
  },
  {
   "cell_type": "code",
   "execution_count": 13,
   "id": "9ee542a4",
   "metadata": {
    "id": "9ee542a4"
   },
   "outputs": [],
   "source": [
    "# We decided only to use director information from the names column since encoding all the names resulted in exceeding capacity (i.e: dead kernel)\n",
    "netflix5=netflix4[netflix4['category']=='director']"
   ]
  },
  {
   "cell_type": "code",
   "execution_count": 14,
   "id": "1d6a1819",
   "metadata": {
    "colab": {
     "base_uri": "https://localhost:8080/",
     "height": 204
    },
    "id": "1d6a1819",
    "outputId": "05aa21a7-feed-460d-a1dc-ac9d1025864a"
   },
   "outputs": [
    {
     "data": {
      "text/html": [
       "<div>\n",
       "<style scoped>\n",
       "    .dataframe tbody tr th:only-of-type {\n",
       "        vertical-align: middle;\n",
       "    }\n",
       "\n",
       "    .dataframe tbody tr th {\n",
       "        vertical-align: top;\n",
       "    }\n",
       "\n",
       "    .dataframe thead th {\n",
       "        text-align: right;\n",
       "    }\n",
       "</style>\n",
       "<table border=\"1\" class=\"dataframe\">\n",
       "  <thead>\n",
       "    <tr style=\"text-align: right;\">\n",
       "      <th></th>\n",
       "      <th>type</th>\n",
       "      <th>country</th>\n",
       "      <th>averageRating</th>\n",
       "      <th>numVotes</th>\n",
       "      <th>genres</th>\n",
       "      <th>category</th>\n",
       "      <th>primaryName</th>\n",
       "    </tr>\n",
       "  </thead>\n",
       "  <tbody>\n",
       "    <tr>\n",
       "      <th>3</th>\n",
       "      <td>TV Show</td>\n",
       "      <td>South Africa</td>\n",
       "      <td>7.3</td>\n",
       "      <td>528.0</td>\n",
       "      <td>Crime,Drama,Mystery</td>\n",
       "      <td>director</td>\n",
       "      <td>Mike Smith</td>\n",
       "    </tr>\n",
       "    <tr>\n",
       "      <th>7</th>\n",
       "      <td>TV Show</td>\n",
       "      <td>South Africa</td>\n",
       "      <td>8.0</td>\n",
       "      <td>22.0</td>\n",
       "      <td>Crime,Documentary</td>\n",
       "      <td>director</td>\n",
       "      <td>Steve Rivo</td>\n",
       "    </tr>\n",
       "    <tr>\n",
       "      <th>71</th>\n",
       "      <td>Movie</td>\n",
       "      <td>United States,Ghana,Burkina Faso,United Kingdo...</td>\n",
       "      <td>7.0</td>\n",
       "      <td>784.0</td>\n",
       "      <td>Drama</td>\n",
       "      <td>director</td>\n",
       "      <td>Haile Gerima</td>\n",
       "    </tr>\n",
       "    <tr>\n",
       "      <th>84</th>\n",
       "      <td>Movie</td>\n",
       "      <td>United States,Ghana,Burkina Faso,United Kingdo...</td>\n",
       "      <td>8.4</td>\n",
       "      <td>7.0</td>\n",
       "      <td>Documentary,Short</td>\n",
       "      <td>director</td>\n",
       "      <td>Princess Garrett</td>\n",
       "    </tr>\n",
       "    <tr>\n",
       "      <th>88</th>\n",
       "      <td>Movie</td>\n",
       "      <td>United States</td>\n",
       "      <td>6.4</td>\n",
       "      <td>14869.0</td>\n",
       "      <td>Comedy,Drama</td>\n",
       "      <td>director</td>\n",
       "      <td>Theodore Melfi</td>\n",
       "    </tr>\n",
       "  </tbody>\n",
       "</table>\n",
       "</div>"
      ],
      "text/plain": [
       "       type                                            country  averageRating  \\\n",
       "3   TV Show                                       South Africa            7.3   \n",
       "7   TV Show                                       South Africa            8.0   \n",
       "71    Movie  United States,Ghana,Burkina Faso,United Kingdo...            7.0   \n",
       "84    Movie  United States,Ghana,Burkina Faso,United Kingdo...            8.4   \n",
       "88    Movie                                      United States            6.4   \n",
       "\n",
       "    numVotes               genres  category       primaryName  \n",
       "3      528.0  Crime,Drama,Mystery  director        Mike Smith  \n",
       "7       22.0    Crime,Documentary  director        Steve Rivo  \n",
       "71     784.0                Drama  director      Haile Gerima  \n",
       "84       7.0    Documentary,Short  director  Princess Garrett  \n",
       "88   14869.0         Comedy,Drama  director    Theodore Melfi  "
      ]
     },
     "execution_count": 14,
     "metadata": {},
     "output_type": "execute_result"
    }
   ],
   "source": [
    "netflix5.head()"
   ]
  },
  {
   "cell_type": "code",
   "execution_count": 15,
   "id": "d5a9bd4d",
   "metadata": {
    "colab": {
     "base_uri": "https://localhost:8080/"
    },
    "id": "d5a9bd4d",
    "outputId": "39c1ca36-a81e-49d3-e404-eb52289d9c34"
   },
   "outputs": [
    {
     "data": {
      "text/plain": [
       "Index(['type', 'country', 'averageRating', 'numVotes', 'genres', 'category',\n",
       "       'primaryName'],\n",
       "      dtype='object')"
      ]
     },
     "execution_count": 15,
     "metadata": {},
     "output_type": "execute_result"
    }
   ],
   "source": [
    "netflix5.columns"
   ]
  },
  {
   "cell_type": "markdown",
   "id": "55be6df7",
   "metadata": {},
   "source": [
    "# One Hot Encoding "
   ]
  },
  {
   "cell_type": "code",
   "execution_count": 16,
   "id": "92142e0d",
   "metadata": {
    "colab": {
     "base_uri": "https://localhost:8080/"
    },
    "id": "92142e0d",
    "outputId": "33264f19-98e5-4bc0-e96e-dcf13aa41161"
   },
   "outputs": [
    {
     "name": "stdout",
     "output_type": "stream",
     "text": [
      "    type  averageRating  numVotes  category  Genre_Sci-Fi  Genre_Short  \\\n",
      "3      0            7.3     528.0  director             0            0   \n",
      "7      0            8.0      22.0  director             0            0   \n",
      "71     1            7.0     784.0  director             0            0   \n",
      "84     1            8.4       7.0  director             0            1   \n",
      "88     1            6.4   14869.0  director             0            0   \n",
      "\n",
      "    Genre_Film-Noir  Genre_Music  Genre_Horror  Genre_Reality-TV  ...  \\\n",
      "3                 0            0             0                 0  ...   \n",
      "7                 0            0             0                 0  ...   \n",
      "71                0            0             0                 0  ...   \n",
      "84                0            0             0                 0  ...   \n",
      "88                0            0             0                 0  ...   \n",
      "\n",
      "    Country_Netherlands  Country_Russia  Country_Portugal  Country_Armenia  \\\n",
      "3                     0               0                 0                0   \n",
      "7                     0               0                 0                0   \n",
      "71                    0               0                 0                0   \n",
      "84                    0               0                 0                0   \n",
      "88                    0               0                 0                0   \n",
      "\n",
      "    Country_Burkina Faso  Country_Samoa  Country_Spain  Country_China  \\\n",
      "3                      0              0              0              0   \n",
      "7                      0              0              0              0   \n",
      "71                     1              0              0              0   \n",
      "84                     1              0              0              0   \n",
      "88                     0              0              0              0   \n",
      "\n",
      "    Country_Algeria  Country_Kenya  \n",
      "3                 0              0  \n",
      "7                 0              0  \n",
      "71                0              0  \n",
      "84                0              0  \n",
      "88                0              0  \n",
      "\n",
      "[5 rows x 15619 columns]\n"
     ]
    }
   ],
   "source": [
    "warnings.filterwarnings('ignore')\n",
    "\n",
    "# Split string values into lists for 'genres', 'primaryName', and 'country' and convert 'type' column to binary values (1 for movies)\n",
    "netflix5['genres'] = netflix5['genres'].apply(lambda x: x.split(',') if isinstance(x, str) else [])\n",
    "netflix5['primaryName'] = netflix5['primaryName'].apply(lambda x: x.split(',') if isinstance(x, str) else [])\n",
    "netflix5['country'] = netflix5['country'].apply(lambda x: x.split(',') if isinstance(x, str) else [])\n",
    "netflix5['type'] = netflix5['type'].apply(lambda x: 1 if x == 'Movie' else 0)\n",
    "\n",
    "# For 'rating', 'genres', 'country', 'primaryName', get unique values and apply one-hot encoding\n",
    "all_genres = sum(netflix5['genres'], [])\n",
    "unique_genres = set(all_genres)\n",
    "for genre in unique_genres:\n",
    "    netflix5['Genre_' + genre] = netflix5['genres'].apply(lambda x: 1 if genre in x else 0)\n",
    "\n",
    "all_names = sum(netflix5['primaryName'], [])\n",
    "unique_names = set(all_names)\n",
    "for name in unique_names:\n",
    "    netflix5['Name_' + name] = netflix5['primaryName'].apply(lambda x: 1 if name in x else 0)\n",
    "\n",
    "# For 'country', get unique values and apply one-hot encoding\n",
    "all_countries = sum(netflix5['country'], [])\n",
    "unique_countries = set(all_countries)\n",
    "for country in unique_countries:\n",
    "    netflix5['Country_' + country] = netflix5['country'].apply(lambda x: 1 if country in x else 0)\n",
    "\n",
    "# Remove the original categorical columns\n",
    "netflix5.drop(['genres', 'primaryName', 'country'], axis=1, inplace=True)\n",
    "\n",
    "print(netflix5.head())\n"
   ]
  },
  {
   "cell_type": "code",
   "execution_count": 17,
   "id": "7eRfL_YSjs_z",
   "metadata": {
    "colab": {
     "base_uri": "https://localhost:8080/"
    },
    "id": "7eRfL_YSjs_z",
    "outputId": "15f4fc75-8db0-4800-efba-39e13feaeeee"
   },
   "outputs": [
    {
     "name": "stdout",
     "output_type": "stream",
     "text": [
      "['Country_', 'Country_Morocco', 'Country_Nepal', 'Country_West Germany', 'Country_Taiwan', 'Country_Denmark', 'Country_Vatican City', 'Country_Senegal', 'Country_India', 'Country_Afghanistan', 'Country_Sweden', 'Country_Jamaica', 'Country_Albania', 'Country_Paraguay', 'Country_Nigeria', 'Country_Angola', 'Country_Bulgaria', 'Country_Cambodia', 'Country_Jordan', 'Country_Brazil', 'Country_Guatemala', 'Country_Pakistan', 'Country_Lebanon', 'Country_Sri Lanka', 'Country_Singapore', 'Country_Israel', 'Country_Cayman Islands', 'Country_Bangladesh', 'Country_Cameroon', 'Country_Italy', 'Country_Hong Kong', 'Country_Bermuda', 'Country_Norway', 'Country_Colombia', 'Country_Mongolia', 'Country_Romania', 'Country_Iraq', 'Country_Latvia', 'Country_Czech Republic', 'Country_Argentina', 'Country_Azerbaijan', 'Country_Sudan', 'Country_Namibia', 'Country_Germany', 'Country_Ecuador', 'Country_Bahamas', 'Country_Mexico', 'Country_Japan', 'Country_Thailand', 'Country_Lithuania', 'Country_Qatar', 'Country_Slovenia', 'Country_France', 'Country_Croatia', 'Country_Australia', 'Country_Montenegro', 'Country_Malta', 'Country_South Korea', 'Country_Switzerland', 'Country_Hungary', 'Country_Philippines', 'Country_Panama', 'Country_Georgia', 'Country_South Africa', 'Country_Venezuela', 'Country_Egypt', 'Country_Ethiopia', 'Country_Slovakia', 'Country_Vietnam', 'Country_United Kingdom', 'Country_New Zealand', 'Country_Liechtenstein', 'Country_East Germany', 'Country_Indonesia', 'Country_Nicaragua', 'Country_Uruguay', 'Country_Syria', 'Country_Zimbabwe', 'Country_Ireland', 'Country_Mozambique', 'Country_Poland', 'Country_Iceland', 'Country_United Arab Emirates', 'Country_Malaysia', 'Country_Somalia', 'Country_Soviet Union', 'Country_Mauritius', 'Country_Finland', 'Country_Saudi Arabia', 'Country_Ghana', 'Country_Austria', 'Country_Kazakhstan', 'Country_Greece', 'Country_Uganda', 'Country_Canada', 'Country_Ukraine', 'Country_United States', 'Country_Luxembourg', 'Country_Iran', 'Country_Peru', 'Country_Botswana', 'Country_Belgium', 'Country_Serbia', 'Country_Kuwait', 'Country_Chile', 'Country_Turkey', 'Country_Netherlands', 'Country_Russia', 'Country_Portugal', 'Country_Armenia', 'Country_Burkina Faso', 'Country_Samoa', 'Country_Spain', 'Country_China', 'Country_Algeria', 'Country_Kenya']\n"
     ]
    }
   ],
   "source": [
    "# Inspection on 'counry'\n",
    "country_columns = [col for col in netflix5.columns if col.startswith('Country_')]\n",
    "print(country_columns)"
   ]
  },
  {
   "cell_type": "code",
   "execution_count": 18,
   "id": "PgdVEVoGnttG",
   "metadata": {
    "colab": {
     "base_uri": "https://localhost:8080/"
    },
    "id": "PgdVEVoGnttG",
    "outputId": "1028e9e7-5265-4792-cab9-996b81c1017d"
   },
   "outputs": [
    {
     "name": "stdout",
     "output_type": "stream",
     "text": [
      "Toplam Country sütunu sayısı: 116\n"
     ]
    }
   ],
   "source": [
    "# Inspection on 'counry' - continuation\n",
    "num_country_columns = sum(col.startswith('Country_') for col in netflix5.columns)\n",
    "print(\"Toplam Country sütunu sayısı:\", num_country_columns)"
   ]
  },
  {
   "cell_type": "code",
   "execution_count": 19,
   "id": "93ebc7ef",
   "metadata": {
    "id": "93ebc7ef"
   },
   "outputs": [],
   "source": [
    "netflix5.drop(['category', 'Country_'], axis=1, inplace=True)"
   ]
  },
  {
   "cell_type": "code",
   "execution_count": 20,
   "id": "8f4a9c13",
   "metadata": {
    "colab": {
     "base_uri": "https://localhost:8080/",
     "height": 270
    },
    "id": "8f4a9c13",
    "outputId": "d53ccf55-3360-4ea8-ecfb-465aedb10d99"
   },
   "outputs": [
    {
     "data": {
      "text/html": [
       "<div>\n",
       "<style scoped>\n",
       "    .dataframe tbody tr th:only-of-type {\n",
       "        vertical-align: middle;\n",
       "    }\n",
       "\n",
       "    .dataframe tbody tr th {\n",
       "        vertical-align: top;\n",
       "    }\n",
       "\n",
       "    .dataframe thead th {\n",
       "        text-align: right;\n",
       "    }\n",
       "</style>\n",
       "<table border=\"1\" class=\"dataframe\">\n",
       "  <thead>\n",
       "    <tr style=\"text-align: right;\">\n",
       "      <th></th>\n",
       "      <th>type</th>\n",
       "      <th>averageRating</th>\n",
       "      <th>numVotes</th>\n",
       "      <th>Genre_Sci-Fi</th>\n",
       "      <th>Genre_Short</th>\n",
       "      <th>Genre_Film-Noir</th>\n",
       "      <th>Genre_Music</th>\n",
       "      <th>Genre_Horror</th>\n",
       "      <th>Genre_Reality-TV</th>\n",
       "      <th>Genre_Drama</th>\n",
       "      <th>...</th>\n",
       "      <th>Country_Netherlands</th>\n",
       "      <th>Country_Russia</th>\n",
       "      <th>Country_Portugal</th>\n",
       "      <th>Country_Armenia</th>\n",
       "      <th>Country_Burkina Faso</th>\n",
       "      <th>Country_Samoa</th>\n",
       "      <th>Country_Spain</th>\n",
       "      <th>Country_China</th>\n",
       "      <th>Country_Algeria</th>\n",
       "      <th>Country_Kenya</th>\n",
       "    </tr>\n",
       "  </thead>\n",
       "  <tbody>\n",
       "    <tr>\n",
       "      <th>3</th>\n",
       "      <td>0</td>\n",
       "      <td>7.3</td>\n",
       "      <td>528.0</td>\n",
       "      <td>0</td>\n",
       "      <td>0</td>\n",
       "      <td>0</td>\n",
       "      <td>0</td>\n",
       "      <td>0</td>\n",
       "      <td>0</td>\n",
       "      <td>1</td>\n",
       "      <td>...</td>\n",
       "      <td>0</td>\n",
       "      <td>0</td>\n",
       "      <td>0</td>\n",
       "      <td>0</td>\n",
       "      <td>0</td>\n",
       "      <td>0</td>\n",
       "      <td>0</td>\n",
       "      <td>0</td>\n",
       "      <td>0</td>\n",
       "      <td>0</td>\n",
       "    </tr>\n",
       "    <tr>\n",
       "      <th>7</th>\n",
       "      <td>0</td>\n",
       "      <td>8.0</td>\n",
       "      <td>22.0</td>\n",
       "      <td>0</td>\n",
       "      <td>0</td>\n",
       "      <td>0</td>\n",
       "      <td>0</td>\n",
       "      <td>0</td>\n",
       "      <td>0</td>\n",
       "      <td>0</td>\n",
       "      <td>...</td>\n",
       "      <td>0</td>\n",
       "      <td>0</td>\n",
       "      <td>0</td>\n",
       "      <td>0</td>\n",
       "      <td>0</td>\n",
       "      <td>0</td>\n",
       "      <td>0</td>\n",
       "      <td>0</td>\n",
       "      <td>0</td>\n",
       "      <td>0</td>\n",
       "    </tr>\n",
       "    <tr>\n",
       "      <th>71</th>\n",
       "      <td>1</td>\n",
       "      <td>7.0</td>\n",
       "      <td>784.0</td>\n",
       "      <td>0</td>\n",
       "      <td>0</td>\n",
       "      <td>0</td>\n",
       "      <td>0</td>\n",
       "      <td>0</td>\n",
       "      <td>0</td>\n",
       "      <td>1</td>\n",
       "      <td>...</td>\n",
       "      <td>0</td>\n",
       "      <td>0</td>\n",
       "      <td>0</td>\n",
       "      <td>0</td>\n",
       "      <td>1</td>\n",
       "      <td>0</td>\n",
       "      <td>0</td>\n",
       "      <td>0</td>\n",
       "      <td>0</td>\n",
       "      <td>0</td>\n",
       "    </tr>\n",
       "    <tr>\n",
       "      <th>84</th>\n",
       "      <td>1</td>\n",
       "      <td>8.4</td>\n",
       "      <td>7.0</td>\n",
       "      <td>0</td>\n",
       "      <td>1</td>\n",
       "      <td>0</td>\n",
       "      <td>0</td>\n",
       "      <td>0</td>\n",
       "      <td>0</td>\n",
       "      <td>0</td>\n",
       "      <td>...</td>\n",
       "      <td>0</td>\n",
       "      <td>0</td>\n",
       "      <td>0</td>\n",
       "      <td>0</td>\n",
       "      <td>1</td>\n",
       "      <td>0</td>\n",
       "      <td>0</td>\n",
       "      <td>0</td>\n",
       "      <td>0</td>\n",
       "      <td>0</td>\n",
       "    </tr>\n",
       "    <tr>\n",
       "      <th>88</th>\n",
       "      <td>1</td>\n",
       "      <td>6.4</td>\n",
       "      <td>14869.0</td>\n",
       "      <td>0</td>\n",
       "      <td>0</td>\n",
       "      <td>0</td>\n",
       "      <td>0</td>\n",
       "      <td>0</td>\n",
       "      <td>0</td>\n",
       "      <td>1</td>\n",
       "      <td>...</td>\n",
       "      <td>0</td>\n",
       "      <td>0</td>\n",
       "      <td>0</td>\n",
       "      <td>0</td>\n",
       "      <td>0</td>\n",
       "      <td>0</td>\n",
       "      <td>0</td>\n",
       "      <td>0</td>\n",
       "      <td>0</td>\n",
       "      <td>0</td>\n",
       "    </tr>\n",
       "  </tbody>\n",
       "</table>\n",
       "<p>5 rows × 15617 columns</p>\n",
       "</div>"
      ],
      "text/plain": [
       "    type  averageRating  numVotes  Genre_Sci-Fi  Genre_Short  Genre_Film-Noir  \\\n",
       "3      0            7.3     528.0             0            0                0   \n",
       "7      0            8.0      22.0             0            0                0   \n",
       "71     1            7.0     784.0             0            0                0   \n",
       "84     1            8.4       7.0             0            1                0   \n",
       "88     1            6.4   14869.0             0            0                0   \n",
       "\n",
       "    Genre_Music  Genre_Horror  Genre_Reality-TV  Genre_Drama  ...  \\\n",
       "3             0             0                 0            1  ...   \n",
       "7             0             0                 0            0  ...   \n",
       "71            0             0                 0            1  ...   \n",
       "84            0             0                 0            0  ...   \n",
       "88            0             0                 0            1  ...   \n",
       "\n",
       "    Country_Netherlands  Country_Russia  Country_Portugal  Country_Armenia  \\\n",
       "3                     0               0                 0                0   \n",
       "7                     0               0                 0                0   \n",
       "71                    0               0                 0                0   \n",
       "84                    0               0                 0                0   \n",
       "88                    0               0                 0                0   \n",
       "\n",
       "    Country_Burkina Faso  Country_Samoa  Country_Spain  Country_China  \\\n",
       "3                      0              0              0              0   \n",
       "7                      0              0              0              0   \n",
       "71                     1              0              0              0   \n",
       "84                     1              0              0              0   \n",
       "88                     0              0              0              0   \n",
       "\n",
       "    Country_Algeria  Country_Kenya  \n",
       "3                 0              0  \n",
       "7                 0              0  \n",
       "71                0              0  \n",
       "84                0              0  \n",
       "88                0              0  \n",
       "\n",
       "[5 rows x 15617 columns]"
      ]
     },
     "execution_count": 20,
     "metadata": {},
     "output_type": "execute_result"
    }
   ],
   "source": [
    "netflix5.head()"
   ]
  },
  {
   "cell_type": "markdown",
   "id": "63738196",
   "metadata": {},
   "source": [
    "# Removing Outliers"
   ]
  },
  {
   "cell_type": "code",
   "execution_count": 21,
   "id": "ea6074c1",
   "metadata": {
    "id": "ea6074c1"
   },
   "outputs": [
    {
     "data": {
      "text/plain": [
       "<Axes: xlabel='numVotes'>"
      ]
     },
     "execution_count": 21,
     "metadata": {},
     "output_type": "execute_result"
    },
    {
     "data": {
      "image/png": "[encoded data removed]",
      "text/plain": [
       "<Figure size 640x480 with 1 Axes>"
      ]
     },
     "metadata": {},
     "output_type": "display_data"
    }
   ],
   "source": [
    "# After encoding, we removed outliers from the number of votes and average rating columns\n",
    "numvotes_df=netflix5[\"numVotes\"]\n",
    "# Plot before removing outliers\n",
    "sns.boxplot(x=numvotes_df)"
   ]
  },
  {
   "cell_type": "code",
   "execution_count": 22,
   "id": "3bed3c52",
   "metadata": {
    "id": "3bed3c52"
   },
   "outputs": [],
   "source": [
    "y_rating = netflix5['numVotes']\n",
    "\n",
    "# Calculating IQR \n",
    "Q1 = y_rating.quantile(0.25)\n",
    "Q3 = y_rating.quantile(0.75)\n",
    "IQR = Q3 - Q1\n",
    "\n",
    "# Removing Outliers according to IQR\n",
    "not_outlier = (y_rating >= (Q1 - 1.5 * IQR)) & (y_rating <= (Q3 + 1.5 * IQR))\n",
    "netflix5_clean = netflix5[not_outlier]"
   ]
  },
  {
   "cell_type": "code",
   "execution_count": 23,
   "id": "cbd0b8dc",
   "metadata": {
    "id": "cbd0b8dc"
   },
   "outputs": [
    {
     "data": {
      "text/plain": [
       "<Axes: xlabel='numVotes'>"
      ]
     },
     "execution_count": 23,
     "metadata": {},
     "output_type": "execute_result"
    },
    {
     "data": {
      "image/png": "[encoded data removed]",
      "text/plain": [
       "<Figure size 640x480 with 1 Axes>"
      ]
     },
     "metadata": {},
     "output_type": "display_data"
    }
   ],
   "source": [
    "numvotes_df=netflix5_clean[\"numVotes\"]\n",
    "# Plot of removing outliers\n",
    "sns.boxplot(x=numvotes_df)"
   ]
  },
  {
   "cell_type": "code",
   "execution_count": 24,
   "id": "a5298776",
   "metadata": {
    "id": "a5298776"
   },
   "outputs": [
    {
     "data": {
      "text/html": [
       "<div>\n",
       "<style scoped>\n",
       "    .dataframe tbody tr th:only-of-type {\n",
       "        vertical-align: middle;\n",
       "    }\n",
       "\n",
       "    .dataframe tbody tr th {\n",
       "        vertical-align: top;\n",
       "    }\n",
       "\n",
       "    .dataframe thead th {\n",
       "        text-align: right;\n",
       "    }\n",
       "</style>\n",
       "<table border=\"1\" class=\"dataframe\">\n",
       "  <thead>\n",
       "    <tr style=\"text-align: right;\">\n",
       "      <th></th>\n",
       "      <th>type</th>\n",
       "      <th>averageRating</th>\n",
       "      <th>Genre_Sci-Fi</th>\n",
       "      <th>Genre_Short</th>\n",
       "      <th>Genre_Film-Noir</th>\n",
       "      <th>Genre_Music</th>\n",
       "      <th>Genre_Horror</th>\n",
       "      <th>Genre_Reality-TV</th>\n",
       "      <th>Genre_Drama</th>\n",
       "      <th>Genre_War</th>\n",
       "      <th>...</th>\n",
       "      <th>Country_Netherlands</th>\n",
       "      <th>Country_Russia</th>\n",
       "      <th>Country_Portugal</th>\n",
       "      <th>Country_Armenia</th>\n",
       "      <th>Country_Burkina Faso</th>\n",
       "      <th>Country_Samoa</th>\n",
       "      <th>Country_Spain</th>\n",
       "      <th>Country_China</th>\n",
       "      <th>Country_Algeria</th>\n",
       "      <th>Country_Kenya</th>\n",
       "    </tr>\n",
       "  </thead>\n",
       "  <tbody>\n",
       "    <tr>\n",
       "      <th>3</th>\n",
       "      <td>0</td>\n",
       "      <td>7.3</td>\n",
       "      <td>0</td>\n",
       "      <td>0</td>\n",
       "      <td>0</td>\n",
       "      <td>0</td>\n",
       "      <td>0</td>\n",
       "      <td>0</td>\n",
       "      <td>1</td>\n",
       "      <td>0</td>\n",
       "      <td>...</td>\n",
       "      <td>0</td>\n",
       "      <td>0</td>\n",
       "      <td>0</td>\n",
       "      <td>0</td>\n",
       "      <td>0</td>\n",
       "      <td>0</td>\n",
       "      <td>0</td>\n",
       "      <td>0</td>\n",
       "      <td>0</td>\n",
       "      <td>0</td>\n",
       "    </tr>\n",
       "    <tr>\n",
       "      <th>7</th>\n",
       "      <td>0</td>\n",
       "      <td>8.0</td>\n",
       "      <td>0</td>\n",
       "      <td>0</td>\n",
       "      <td>0</td>\n",
       "      <td>0</td>\n",
       "      <td>0</td>\n",
       "      <td>0</td>\n",
       "      <td>0</td>\n",
       "      <td>0</td>\n",
       "      <td>...</td>\n",
       "      <td>0</td>\n",
       "      <td>0</td>\n",
       "      <td>0</td>\n",
       "      <td>0</td>\n",
       "      <td>0</td>\n",
       "      <td>0</td>\n",
       "      <td>0</td>\n",
       "      <td>0</td>\n",
       "      <td>0</td>\n",
       "      <td>0</td>\n",
       "    </tr>\n",
       "    <tr>\n",
       "      <th>71</th>\n",
       "      <td>1</td>\n",
       "      <td>7.0</td>\n",
       "      <td>0</td>\n",
       "      <td>0</td>\n",
       "      <td>0</td>\n",
       "      <td>0</td>\n",
       "      <td>0</td>\n",
       "      <td>0</td>\n",
       "      <td>1</td>\n",
       "      <td>0</td>\n",
       "      <td>...</td>\n",
       "      <td>0</td>\n",
       "      <td>0</td>\n",
       "      <td>0</td>\n",
       "      <td>0</td>\n",
       "      <td>1</td>\n",
       "      <td>0</td>\n",
       "      <td>0</td>\n",
       "      <td>0</td>\n",
       "      <td>0</td>\n",
       "      <td>0</td>\n",
       "    </tr>\n",
       "    <tr>\n",
       "      <th>84</th>\n",
       "      <td>1</td>\n",
       "      <td>8.4</td>\n",
       "      <td>0</td>\n",
       "      <td>1</td>\n",
       "      <td>0</td>\n",
       "      <td>0</td>\n",
       "      <td>0</td>\n",
       "      <td>0</td>\n",
       "      <td>0</td>\n",
       "      <td>0</td>\n",
       "      <td>...</td>\n",
       "      <td>0</td>\n",
       "      <td>0</td>\n",
       "      <td>0</td>\n",
       "      <td>0</td>\n",
       "      <td>1</td>\n",
       "      <td>0</td>\n",
       "      <td>0</td>\n",
       "      <td>0</td>\n",
       "      <td>0</td>\n",
       "      <td>0</td>\n",
       "    </tr>\n",
       "    <tr>\n",
       "      <th>100</th>\n",
       "      <td>1</td>\n",
       "      <td>5.5</td>\n",
       "      <td>0</td>\n",
       "      <td>0</td>\n",
       "      <td>0</td>\n",
       "      <td>0</td>\n",
       "      <td>0</td>\n",
       "      <td>0</td>\n",
       "      <td>1</td>\n",
       "      <td>0</td>\n",
       "      <td>...</td>\n",
       "      <td>0</td>\n",
       "      <td>0</td>\n",
       "      <td>0</td>\n",
       "      <td>0</td>\n",
       "      <td>0</td>\n",
       "      <td>0</td>\n",
       "      <td>0</td>\n",
       "      <td>0</td>\n",
       "      <td>0</td>\n",
       "      <td>0</td>\n",
       "    </tr>\n",
       "  </tbody>\n",
       "</table>\n",
       "<p>5 rows × 15616 columns</p>\n",
       "</div>"
      ],
      "text/plain": [
       "     type  averageRating  Genre_Sci-Fi  Genre_Short  Genre_Film-Noir  \\\n",
       "3       0            7.3             0            0                0   \n",
       "7       0            8.0             0            0                0   \n",
       "71      1            7.0             0            0                0   \n",
       "84      1            8.4             0            1                0   \n",
       "100     1            5.5             0            0                0   \n",
       "\n",
       "     Genre_Music  Genre_Horror  Genre_Reality-TV  Genre_Drama  Genre_War  ...  \\\n",
       "3              0             0                 0            1          0  ...   \n",
       "7              0             0                 0            0          0  ...   \n",
       "71             0             0                 0            1          0  ...   \n",
       "84             0             0                 0            0          0  ...   \n",
       "100            0             0                 0            1          0  ...   \n",
       "\n",
       "     Country_Netherlands  Country_Russia  Country_Portugal  Country_Armenia  \\\n",
       "3                      0               0                 0                0   \n",
       "7                      0               0                 0                0   \n",
       "71                     0               0                 0                0   \n",
       "84                     0               0                 0                0   \n",
       "100                    0               0                 0                0   \n",
       "\n",
       "     Country_Burkina Faso  Country_Samoa  Country_Spain  Country_China  \\\n",
       "3                       0              0              0              0   \n",
       "7                       0              0              0              0   \n",
       "71                      1              0              0              0   \n",
       "84                      1              0              0              0   \n",
       "100                     0              0              0              0   \n",
       "\n",
       "     Country_Algeria  Country_Kenya  \n",
       "3                  0              0  \n",
       "7                  0              0  \n",
       "71                 0              0  \n",
       "84                 0              0  \n",
       "100                0              0  \n",
       "\n",
       "[5 rows x 15616 columns]"
      ]
     },
     "execution_count": 24,
     "metadata": {},
     "output_type": "execute_result"
    }
   ],
   "source": [
    "netflix5_clean.drop(['numVotes'], axis=1, inplace=True)\n",
    "netflix5_clean.head()"
   ]
  },
  {
   "cell_type": "code",
   "execution_count": 25,
   "id": "a49c3b6c",
   "metadata": {
    "id": "a49c3b6c"
   },
   "outputs": [],
   "source": [
    "# Removing outliers from 'averageRating'\n",
    "y_rating = netflix5_clean['averageRating']\n",
    "\n",
    "# Calculating IQR\n",
    "Q1 = y_rating.quantile(0.25)\n",
    "Q3 = y_rating.quantile(0.75)\n",
    "IQR = Q3 - Q1\n",
    "# Removing Outliers according to IQR\n",
    "not_outlier = (y_rating >= (Q1 - 1.5 * IQR)) & (y_rating <= (Q3 + 1.5 * IQR))\n",
    "netflix6_clean = netflix5_clean[not_outlier]"
   ]
  },
  {
   "cell_type": "code",
   "execution_count": 26,
   "id": "e16a853a",
   "metadata": {
    "colab": {
     "base_uri": "https://localhost:8080/",
     "height": 270
    },
    "id": "e16a853a",
    "outputId": "d7f3ec1f-1514-4e36-a784-209f1b50f5f9"
   },
   "outputs": [
    {
     "data": {
      "text/html": [
       "<div>\n",
       "<style scoped>\n",
       "    .dataframe tbody tr th:only-of-type {\n",
       "        vertical-align: middle;\n",
       "    }\n",
       "\n",
       "    .dataframe tbody tr th {\n",
       "        vertical-align: top;\n",
       "    }\n",
       "\n",
       "    .dataframe thead th {\n",
       "        text-align: right;\n",
       "    }\n",
       "</style>\n",
       "<table border=\"1\" class=\"dataframe\">\n",
       "  <thead>\n",
       "    <tr style=\"text-align: right;\">\n",
       "      <th></th>\n",
       "      <th>type</th>\n",
       "      <th>averageRating</th>\n",
       "      <th>Genre_Sci-Fi</th>\n",
       "      <th>Genre_Short</th>\n",
       "      <th>Genre_Film-Noir</th>\n",
       "      <th>Genre_Music</th>\n",
       "      <th>Genre_Horror</th>\n",
       "      <th>Genre_Reality-TV</th>\n",
       "      <th>Genre_Drama</th>\n",
       "      <th>Genre_War</th>\n",
       "      <th>...</th>\n",
       "      <th>Country_Netherlands</th>\n",
       "      <th>Country_Russia</th>\n",
       "      <th>Country_Portugal</th>\n",
       "      <th>Country_Armenia</th>\n",
       "      <th>Country_Burkina Faso</th>\n",
       "      <th>Country_Samoa</th>\n",
       "      <th>Country_Spain</th>\n",
       "      <th>Country_China</th>\n",
       "      <th>Country_Algeria</th>\n",
       "      <th>Country_Kenya</th>\n",
       "    </tr>\n",
       "  </thead>\n",
       "  <tbody>\n",
       "    <tr>\n",
       "      <th>3</th>\n",
       "      <td>0</td>\n",
       "      <td>7.3</td>\n",
       "      <td>0</td>\n",
       "      <td>0</td>\n",
       "      <td>0</td>\n",
       "      <td>0</td>\n",
       "      <td>0</td>\n",
       "      <td>0</td>\n",
       "      <td>1</td>\n",
       "      <td>0</td>\n",
       "      <td>...</td>\n",
       "      <td>0</td>\n",
       "      <td>0</td>\n",
       "      <td>0</td>\n",
       "      <td>0</td>\n",
       "      <td>0</td>\n",
       "      <td>0</td>\n",
       "      <td>0</td>\n",
       "      <td>0</td>\n",
       "      <td>0</td>\n",
       "      <td>0</td>\n",
       "    </tr>\n",
       "    <tr>\n",
       "      <th>7</th>\n",
       "      <td>0</td>\n",
       "      <td>8.0</td>\n",
       "      <td>0</td>\n",
       "      <td>0</td>\n",
       "      <td>0</td>\n",
       "      <td>0</td>\n",
       "      <td>0</td>\n",
       "      <td>0</td>\n",
       "      <td>0</td>\n",
       "      <td>0</td>\n",
       "      <td>...</td>\n",
       "      <td>0</td>\n",
       "      <td>0</td>\n",
       "      <td>0</td>\n",
       "      <td>0</td>\n",
       "      <td>0</td>\n",
       "      <td>0</td>\n",
       "      <td>0</td>\n",
       "      <td>0</td>\n",
       "      <td>0</td>\n",
       "      <td>0</td>\n",
       "    </tr>\n",
       "    <tr>\n",
       "      <th>71</th>\n",
       "      <td>1</td>\n",
       "      <td>7.0</td>\n",
       "      <td>0</td>\n",
       "      <td>0</td>\n",
       "      <td>0</td>\n",
       "      <td>0</td>\n",
       "      <td>0</td>\n",
       "      <td>0</td>\n",
       "      <td>1</td>\n",
       "      <td>0</td>\n",
       "      <td>...</td>\n",
       "      <td>0</td>\n",
       "      <td>0</td>\n",
       "      <td>0</td>\n",
       "      <td>0</td>\n",
       "      <td>1</td>\n",
       "      <td>0</td>\n",
       "      <td>0</td>\n",
       "      <td>0</td>\n",
       "      <td>0</td>\n",
       "      <td>0</td>\n",
       "    </tr>\n",
       "    <tr>\n",
       "      <th>84</th>\n",
       "      <td>1</td>\n",
       "      <td>8.4</td>\n",
       "      <td>0</td>\n",
       "      <td>1</td>\n",
       "      <td>0</td>\n",
       "      <td>0</td>\n",
       "      <td>0</td>\n",
       "      <td>0</td>\n",
       "      <td>0</td>\n",
       "      <td>0</td>\n",
       "      <td>...</td>\n",
       "      <td>0</td>\n",
       "      <td>0</td>\n",
       "      <td>0</td>\n",
       "      <td>0</td>\n",
       "      <td>1</td>\n",
       "      <td>0</td>\n",
       "      <td>0</td>\n",
       "      <td>0</td>\n",
       "      <td>0</td>\n",
       "      <td>0</td>\n",
       "    </tr>\n",
       "    <tr>\n",
       "      <th>100</th>\n",
       "      <td>1</td>\n",
       "      <td>5.5</td>\n",
       "      <td>0</td>\n",
       "      <td>0</td>\n",
       "      <td>0</td>\n",
       "      <td>0</td>\n",
       "      <td>0</td>\n",
       "      <td>0</td>\n",
       "      <td>1</td>\n",
       "      <td>0</td>\n",
       "      <td>...</td>\n",
       "      <td>0</td>\n",
       "      <td>0</td>\n",
       "      <td>0</td>\n",
       "      <td>0</td>\n",
       "      <td>0</td>\n",
       "      <td>0</td>\n",
       "      <td>0</td>\n",
       "      <td>0</td>\n",
       "      <td>0</td>\n",
       "      <td>0</td>\n",
       "    </tr>\n",
       "  </tbody>\n",
       "</table>\n",
       "<p>5 rows × 15616 columns</p>\n",
       "</div>"
      ],
      "text/plain": [
       "     type  averageRating  Genre_Sci-Fi  Genre_Short  Genre_Film-Noir  \\\n",
       "3       0            7.3             0            0                0   \n",
       "7       0            8.0             0            0                0   \n",
       "71      1            7.0             0            0                0   \n",
       "84      1            8.4             0            1                0   \n",
       "100     1            5.5             0            0                0   \n",
       "\n",
       "     Genre_Music  Genre_Horror  Genre_Reality-TV  Genre_Drama  Genre_War  ...  \\\n",
       "3              0             0                 0            1          0  ...   \n",
       "7              0             0                 0            0          0  ...   \n",
       "71             0             0                 0            1          0  ...   \n",
       "84             0             0                 0            0          0  ...   \n",
       "100            0             0                 0            1          0  ...   \n",
       "\n",
       "     Country_Netherlands  Country_Russia  Country_Portugal  Country_Armenia  \\\n",
       "3                      0               0                 0                0   \n",
       "7                      0               0                 0                0   \n",
       "71                     0               0                 0                0   \n",
       "84                     0               0                 0                0   \n",
       "100                    0               0                 0                0   \n",
       "\n",
       "     Country_Burkina Faso  Country_Samoa  Country_Spain  Country_China  \\\n",
       "3                       0              0              0              0   \n",
       "7                       0              0              0              0   \n",
       "71                      1              0              0              0   \n",
       "84                      1              0              0              0   \n",
       "100                     0              0              0              0   \n",
       "\n",
       "     Country_Algeria  Country_Kenya  \n",
       "3                  0              0  \n",
       "7                  0              0  \n",
       "71                 0              0  \n",
       "84                 0              0  \n",
       "100                0              0  \n",
       "\n",
       "[5 rows x 15616 columns]"
      ]
     },
     "execution_count": 26,
     "metadata": {},
     "output_type": "execute_result"
    }
   ],
   "source": [
    "netflix6_clean.head()"
   ]
  },
  {
   "cell_type": "code",
   "execution_count": 27,
   "id": "8d46b354",
   "metadata": {
    "colab": {
     "base_uri": "https://localhost:8080/"
    },
    "id": "8d46b354",
    "outputId": "5e12f4ee-1c56-414f-922b-a7dd2cb26b8a"
   },
   "outputs": [
    {
     "name": "stdout",
     "output_type": "stream",
     "text": [
      "<class 'pandas.core.frame.DataFrame'>\n",
      "Index: 18390 entries, 3 to 137970\n",
      "Columns: 15616 entries, type to Country_Kenya\n",
      "dtypes: float64(1), int64(15615)\n",
      "memory usage: 2.1 GB\n"
     ]
    }
   ],
   "source": [
    "netflix6_clean.info()"
   ]
  },
  {
   "cell_type": "code",
   "execution_count": 28,
   "id": "67d8e8ed",
   "metadata": {
    "id": "67d8e8ed"
   },
   "outputs": [],
   "source": [
    "# Removing NaN values\n",
    "df_cleaned = netflix6_clean.dropna()"
   ]
  },
  {
   "cell_type": "code",
   "execution_count": 29,
   "id": "0f030682",
   "metadata": {
    "colab": {
     "base_uri": "https://localhost:8080/"
    },
    "id": "0f030682",
    "outputId": "f500384c-182c-488e-da06-e480ed20b479"
   },
   "outputs": [
    {
     "name": "stdout",
     "output_type": "stream",
     "text": [
      "<class 'pandas.core.frame.DataFrame'>\n",
      "Index: 18390 entries, 3 to 137970\n",
      "Columns: 15616 entries, type to Country_Kenya\n",
      "dtypes: float64(1), int64(15615)\n",
      "memory usage: 2.1 GB\n"
     ]
    }
   ],
   "source": [
    "df_cleaned.info()"
   ]
  },
  {
   "cell_type": "code",
   "execution_count": null,
   "id": "54d6b02c",
   "metadata": {
    "id": "54d6b02c"
   },
   "outputs": [],
   "source": [
    "X = df_cleaned.drop(['averageRating'], axis=1) \n",
    "y_rating = df_cleaned['averageRating']\n",
    "\n",
    "# Separating training and test sets for the models\n",
    "X_train, X_test, y_rating_train, y_rating_test = train_test_split(X, y_rating, test_size=0.2, random_state=0)"
   ]
  },
  {
   "cell_type": "markdown",
   "id": "05e36e3b",
   "metadata": {},
   "source": [
    "# Models"
   ]
  },
  {
   "cell_type": "markdown",
   "id": "d87a5499",
   "metadata": {
    "id": "d87a5499"
   },
   "source": [
    "Model 1: Cross Validation Random Forest"
   ]
  },
  {
   "cell_type": "code",
   "execution_count": 28,
   "id": "087adf68",
   "metadata": {
    "colab": {
     "base_uri": "https://localhost:8080/"
    },
    "id": "087adf68",
    "outputId": "f781079e-5603-4b25-9b7a-d9633a1e88d0"
   },
   "outputs": [
    {
     "name": "stdout",
     "output_type": "stream",
     "text": [
      "Random Forest Modelin Test MSE'si: 1.2431124625770338\n",
      "Random Forest Çapraz Doğrulama Skorları: [0.09142213 0.1004794  0.12390585 0.12070018 0.08216121]\n",
      "Ortalama Random Forest Skoru: 0.10373375190532783\n"
     ]
    }
   ],
   "source": [
    "import pandas as pd\n",
    "from sklearn.model_selection import train_test_split, cross_val_score\n",
    "from sklearn.linear_model import Ridge\n",
    "from sklearn.metrics import mean_squared_error\n",
    "from sklearn.ensemble import RandomForestRegressor\n",
    "\n",
    "\n",
    "# Seperate features and target \n",
    "X = df_cleaned.drop(['averageRating'], axis=1)  \n",
    "y_rating = df_cleaned['averageRating']\n",
    "\n",
    "# Separate training and test sets for the models\n",
    "X_train, X_test, y_rating_train, y_rating_test = train_test_split(X, y_rating, test_size=0.2, random_state=0)\n",
    "\n",
    "# Construct Random Forest regression model\n",
    "model_rf = RandomForestRegressor(n_estimators=100, random_state=0)\n",
    "\n",
    "# Train the model\n",
    "model_rf.fit(X_train, y_rating_train)\n",
    "\n",
    "# Evaluate the performance of the model\n",
    "y_pred_rating_rf = model_rf.predict(X_test)\n",
    "mse_rf = mean_squared_error(y_rating_test, y_pred_rating_rf)\n",
    "scores_rf = cross_val_score(model_rf, X_train, y_rating_train, cv=5)\n",
    "\n",
    "print(f'Random Forest Modelin Test MSE\\'si: {mse_rf}')\n",
    "print(f'Random Forest Çapraz Doğrulama Skorları: {scores_rf}')\n",
    "print(f'Ortalama Random Forest Skoru: {scores_rf.mean()}')\n"
   ]
  },
  {
   "cell_type": "markdown",
   "id": "f7f424c1",
   "metadata": {
    "id": "f7f424c1"
   },
   "source": [
    "Feature Selenction and Cross Validation Random Forest"
   ]
  },
  {
   "cell_type": "code",
   "execution_count": 29,
   "id": "a819e078",
   "metadata": {
    "colab": {
     "base_uri": "https://localhost:8080/"
    },
    "id": "a819e078",
    "outputId": "fe9fc7bc-5a09-4263-88fe-e0d02361954e"
   },
   "outputs": [
    {
     "name": "stdout",
     "output_type": "stream",
     "text": [
      "Seçilmiş Özelliklerle Random Forest Modelin Test MSE'si: 1.3216644911637356\n",
      "Seçilmiş Özelliklerle Random Forest Çapraz Doğrulama Skorları: [0.04761543 0.03974076 0.05264678 0.05016132 0.04705633]\n",
      "Ortalama Seçilmiş Özelliklerle Random Forest Skoru: 0.047444125942571656\n"
     ]
    }
   ],
   "source": [
    "import pandas as pd\n",
    "from sklearn.model_selection import train_test_split, cross_val_score\n",
    "from sklearn.metrics import mean_squared_error\n",
    "from sklearn.ensemble import RandomForestRegressor\n",
    "\n",
    "# Seperate features and target \n",
    "X = df_cleaned.drop(['averageRating'], axis=1)  # 'numVotes' sütunu zaten çıkarıldı\n",
    "y_rating = df_cleaned['averageRating']\n",
    "\n",
    "# Separate training and test sets for the models\n",
    "X_train, X_test, y_rating_train, y_rating_test = train_test_split(X, y_rating, test_size=0.2, random_state=0)\n",
    "\n",
    "# Train the first Random Forest model to get important features\n",
    "rf = RandomForestRegressor(n_estimators=100, random_state=0)\n",
    "rf.fit(X_train, y_rating_train)\n",
    "feature_importances = rf.feature_importances_\n",
    "\n",
    "# Remove the less important features\n",
    "threshold = 0.01  \n",
    "less_important_features = [feature for feature, importance in zip(X.columns, feature_importances) if importance < threshold]\n",
    "X_selected_features = X.drop(less_important_features, axis=1)\n",
    "\n",
    "# Separate training and test sets again with the selected features\n",
    "X_train_selected, X_test_selected, y_rating_train, y_rating_test = train_test_split(\n",
    "    X_selected_features, y_rating, test_size=0.2, random_state=0)\n",
    "\n",
    "# Train the new Random Forest model with the selected features\n",
    "model_rf_selected = RandomForestRegressor(n_estimators=100, random_state=0)\n",
    "model_rf_selected.fit(X_train_selected, y_rating_train)\n",
    "\n",
    "# Evaluate the performance of the model\n",
    "y_pred_rating_rf_selected = model_rf_selected.predict(X_test_selected)\n",
    "mse_rf_selected = mean_squared_error(y_rating_test, y_pred_rating_rf_selected)\n",
    "scores_rf_selected = cross_val_score(model_rf_selected, X_train_selected, y_rating_train, cv=5)\n",
    "\n",
    "print(f'Seçilmiş Özelliklerle Random Forest Modelin Test MSE\\'si: {mse_rf_selected}')\n",
    "print(f'Seçilmiş Özelliklerle Random Forest Çapraz Doğrulama Skorları: {scores_rf_selected}')\n",
    "print(f'Ortalama Seçilmiş Özelliklerle Random Forest Skoru: {scores_rf_selected.mean()}')\n"
   ]
  },
  {
   "cell_type": "markdown",
   "id": "QImB_awJ9BDb",
   "metadata": {
    "id": "QImB_awJ9BDb"
   },
   "source": [
    "Cross Validation Ridge Regression"
   ]
  },
  {
   "cell_type": "code",
   "execution_count": 30,
   "id": "WupDSkLA9E6Z",
   "metadata": {
    "colab": {
     "base_uri": "https://localhost:8080/"
    },
    "id": "WupDSkLA9E6Z",
    "outputId": "364adca9-fe0a-48f6-d78e-d499bb6af742"
   },
   "outputs": [
    {
     "name": "stdout",
     "output_type": "stream",
     "text": [
      "Ridge Modelin Test MSE'si: 1.1427768548733688\n",
      "Ridge Çapraz Doğrulama Skorları: [0.14192365 0.13958994 0.16713121 0.16907209 0.161632  ]\n",
      "Ortalama Ridge Skoru: 0.15586977619828035\n"
     ]
    }
   ],
   "source": [
    "from sklearn.linear_model import Ridge\n",
    "from sklearn.metrics import mean_squared_error\n",
    "from sklearn.model_selection import cross_val_score\n",
    "\n",
    "# Construct the Ridge Regression model\n",
    "model_ridge = Ridge(alpha=1.0) \n",
    "\n",
    "# Train the model\n",
    "model_ridge.fit(X_train, y_rating_train)\n",
    "\n",
    "# Evaluate the performance of the model\n",
    "y_pred_rating_ridge = model_ridge.predict(X_test)\n",
    "mse_ridge = mean_squared_error(y_rating_test, y_pred_rating_ridge)\n",
    "scores_ridge = cross_val_score(model_ridge, X_train, y_rating_train, cv=5)\n",
    "\n",
    "print(f'Ridge Modelin Test MSE\\'si: {mse_ridge}')\n",
    "print(f'Ridge Çapraz Doğrulama Skorları: {scores_ridge}')\n",
    "print(f'Ortalama Ridge Skoru: {scores_ridge.mean()}')"
   ]
  },
  {
   "cell_type": "markdown",
   "id": "171346ed",
   "metadata": {
    "id": "171346ed"
   },
   "source": [
    "XGBOOST (Extreme Gradient Boosting)"
   ]
  },
  {
   "cell_type": "code",
   "execution_count": 31,
   "id": "1f072e12",
   "metadata": {
    "colab": {
     "base_uri": "https://localhost:8080/"
    },
    "id": "1f072e12",
    "outputId": "174a541a-f51a-44e6-fef3-7e9ce1075c67"
   },
   "outputs": [
    {
     "name": "stdout",
     "output_type": "stream",
     "text": [
      "Model Performance:\n",
      "------------------\n",
      "Mean Squared Error (MSE): 1.3283\n",
      "Root Mean Squared Error (RMSE): 1.1525\n",
      "Mean Absolute Error (MAE): 0.9193\n",
      "R-squared (R2): 0.0465\n"
     ]
    }
   ],
   "source": [
    "import pandas as pd\n",
    "import numpy as np\n",
    "import xgboost as xgb\n",
    "from sklearn.model_selection import train_test_split\n",
    "from sklearn.metrics import mean_squared_error, mean_absolute_error, r2_score\n",
    "\n",
    "df=df_cleaned\n",
    "\n",
    "# Seperate features and target \n",
    "target = df['averageRating']\n",
    "features = df.drop('averageRating', axis=1)\n",
    "\n",
    "# Separate training and test sets for the models\n",
    "X_train, X_test, y_train, y_test = train_test_split(features, target, test_size=0.2, random_state=42)\n",
    "\n",
    "# Construct and train the first model\n",
    "model = xgb.XGBRegressor(objective ='reg:squarederror')\n",
    "model.fit(X_train, y_train)\n",
    "\n",
    "# Get the most important features\n",
    "feature_importances = model.feature_importances_\n",
    "threshold = np.sort(feature_importances)[-10] \n",
    "important_features = [feature for feature, importance in zip(features.columns, feature_importances) if importance >= threshold]\n",
    "\n",
    "# Construct a new model and train it with the selected features\n",
    "X_train_important = X_train[important_features]\n",
    "X_test_important = X_test[important_features]\n",
    "\n",
    "model_important = xgb.XGBRegressor(objective ='reg:squarederror')\n",
    "model_important.fit(X_train_important, y_train)\n",
    "\n",
    "# Evaluate the performance of the model\n",
    "def evaluate_model(model, X_test, y_test):\n",
    "    predictions = model.predict(X_test)\n",
    "    mse = mean_squared_error(y_test, predictions)\n",
    "    mae = mean_absolute_error(y_test, predictions)\n",
    "    r2 = r2_score(y_test, predictions)\n",
    "    print(\"Model Performance:\")\n",
    "    print(\"------------------\")\n",
    "    print(\"Mean Squared Error (MSE): {:.4f}\".format(mse))\n",
    "    print(\"Root Mean Squared Error (RMSE): {:.4f}\".format(np.sqrt(mse)))\n",
    "    print(\"Mean Absolute Error (MAE): {:.4f}\".format(mae))\n",
    "    print(\"R-squared (R2): {:.4f}\".format(r2))\n",
    "\n",
    "evaluate_model(model_important, X_test_important, y_test)\n"
   ]
  },
  {
   "cell_type": "markdown",
   "id": "eca91b21",
   "metadata": {
    "id": "eca91b21"
   },
   "source": [
    "Lineer Regression"
   ]
  },
  {
   "cell_type": "code",
   "execution_count": 32,
   "id": "6ff1b484",
   "metadata": {
    "colab": {
     "base_uri": "https://localhost:8080/"
    },
    "id": "6ff1b484",
    "outputId": "763f9953-0e36-4ec2-aa67-e8c578beeb7e"
   },
   "outputs": [
    {
     "name": "stdout",
     "output_type": "stream",
     "text": [
      "Model Performance:\n",
      "------------------\n",
      "Mean Squared Error (MSE): 1.3479\n",
      "Root Mean Squared Error (RMSE): 1.1610\n",
      "Mean Absolute Error (MAE): 0.9331\n",
      "R-squared (R2): 0.0324\n"
     ]
    }
   ],
   "source": [
    "import pandas as pd\n",
    "import numpy as np\n",
    "import xgboost as xgb\n",
    "from sklearn.model_selection import train_test_split\n",
    "from sklearn.metrics import mean_squared_error, mean_absolute_error, r2_score\n",
    "\n",
    "df = df_cleaned\n",
    "\n",
    "# Seperate features and target \n",
    "target = df['averageRating']\n",
    "features = df.drop('averageRating', axis=1)\n",
    "\n",
    "# Separate training and test sets for the models\n",
    "X_train, X_test, y_train, y_test = train_test_split(features, target, test_size=0.2, random_state=42)\n",
    "\n",
    "# Construct and train the model\n",
    "model = xgb.XGBRegressor(objective ='reg:squarederror', colsample_bytree = 0.3, learning_rate = 0.1,\n",
    "                max_depth = 5, alpha = 10, n_estimators = 10)\n",
    "model.fit(X_train, y_train)\n",
    "\n",
    "# Evaluate the performance of the model\n",
    "def evaluate_model(model, X_test, y_test):\n",
    "    predictions = model.predict(X_test)\n",
    "    mse = mean_squared_error(y_test, predictions)\n",
    "    mae = mean_absolute_error(y_test, predictions)\n",
    "    r2 = r2_score(y_test, predictions)\n",
    "    print(\"Model Performance:\")\n",
    "    print(\"------------------\")\n",
    "    print(\"Mean Squared Error (MSE): {:.4f}\".format(mse))\n",
    "    print(\"Root Mean Squared Error (RMSE): {:.4f}\".format(np.sqrt(mse)))\n",
    "    print(\"Mean Absolute Error (MAE): {:.4f}\".format(mae))\n",
    "    print(\"R-squared (R2): {:.4f}\".format(r2))\n",
    "\n",
    "evaluate_model(model, X_test, y_test)\n"
   ]
  }
 ],
 "metadata": {
  "colab": {
   "include_colab_link": true,
   "machine_shape": "hm",
   "provenance": []
  },
  "kernelspec": {
   "display_name": "conda_python3",
   "language": "python",
   "name": "conda_python3"
  },
  "language_info": {
   "codemirror_mode": {
    "name": "ipython",
    "version": 3
   },
   "file_extension": ".py",
   "mimetype": "text/x-python",
   "name": "python",
   "nbconvert_exporter": "python",
   "pygments_lexer": "ipython3",
   "version": "3.10.13"
  }
 },
 "nbformat": 4,
 "nbformat_minor": 5
}
